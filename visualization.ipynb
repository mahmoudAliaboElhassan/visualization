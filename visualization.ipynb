{
 "cells": [
  {
   "cell_type": "code",
   "execution_count": null,
   "metadata": {},
   "outputs": [],
   "source": [
    "import numpy as np\n",
    "import pandas as pd\n",
    "import matplotlib.pyplot as plt\n",
    "import seaborn as sns"
   ]
  },
  {
   "cell_type": "code",
   "execution_count": null,
   "metadata": {},
   "outputs": [],
   "source": [
    "df=pd.read_csv(\"survey_results_public.csv\")\n",
    "df.columns\n",
    "df.info()   \n"
   ]
  },
  {
   "cell_type": "code",
   "execution_count": null,
   "metadata": {},
   "outputs": [],
   "source": [
    "sns.histplot(df[\"Age\"], kde=False)"
   ]
  },
  {
   "cell_type": "code",
   "execution_count": null,
   "metadata": {},
   "outputs": [],
   "source": [
    "sns.histplot(df[\"DevType\"], kde=False)"
   ]
  },
  {
   "cell_type": "code",
   "execution_count": null,
   "metadata": {},
   "outputs": [],
   "source": [
    "selected_countries = [\"United States\", \"India\", \"Germany\", \"United Kingdom\", \"Canada\"]\n",
    "Data = df[df[\"Country\"].isin(selected_countries)]\n",
    "\n",
    "# Create the boxplot\n",
    "sns.set(style=\"whitegrid\")  # Optional: set a style for the plot\n",
    "plt.figure(figsize=(12, 8))  # Set the figure size\n",
    "\n",
    "sns.boxplot(x=\"Country\", y=\"DevType\", data=Data, palette=\"Set3\")\n",
    "\n",
    "plt.title(\"Boxplot of DevType by Country (Stack Overflow Survey)\")\n",
    "plt.xlabel(\"Country\")\n",
    "plt.ylabel(\"DevType\")\n",
    "plt.yscale(\"log\")  # Use log scale for better visualization of salary ranges\n",
    "\n",
    "plt.show()"
   ]
  },
  {
   "cell_type": "code",
   "execution_count": null,
   "metadata": {},
   "outputs": [],
   "source": [
    "\n",
    "\n",
    "# Load a sample dataset (Tips dataset)\n",
    "dataframe = sns.load_dataset(\"tips\")\n",
    "\n",
    "# Select only numeric columns\n",
    "numeric_df = dataframe.select_dtypes(include=[\"number\"])\n",
    "\n",
    "# Compute the correlation matrix\n",
    "correlation_matrix = numeric_df.corr()\n",
    "\n",
    "# Plot the heatmap\n",
    "plt.figure(figsize=(8, 6))\n",
    "sns.heatmap(correlation_matrix, annot=True, cmap=\"coolwarm\", fmt=\".2f\", cbar_kws={\"label\": \"Correlation\"})\n",
    "\n",
    "# Add titles and labels\n",
    "plt.title(\"Correlation Matrix Heatmap\", fontsize=16)\n",
    "plt.show()\n"
   ]
  },
  {
   "cell_type": "code",
   "execution_count": null,
   "metadata": {},
   "outputs": [],
   "source": [
    "tips = sns.load_dataset(\"tips\")\n",
    "\n",
    "sns.lmplot(\n",
    "    data=tips,\n",
    "    x=\"total_bill\", \n",
    "    y=\"tip\",        \n",
    "    hue=\"sex\",      \n",
    "    markers=[\"o\", \"s\"],\n",
    "    height=6,        \n",
    "    aspect=1.2       \n",
    ")\n",
    "\n",
    "# Add titles and labels\n",
    "plt.title(\"Scatter Plot with Linear Regression\", fontsize=16)\n",
    "plt.xlabel(\"Total Bill ($)\", fontsize=12)\n",
    "plt.ylabel(\"Tip ($)\", fontsize=12)\n",
    "\n",
    "# Show the plot\n",
    "plt.show()\n"
   ]
  },
  {
   "cell_type": "code",
   "execution_count": null,
   "metadata": {},
   "outputs": [],
   "source": []
  }
 ],
 "metadata": {
  "kernelspec": {
   "display_name": "Python 3",
   "language": "python",
   "name": "python3"
  },
  "language_info": {
   "codemirror_mode": {
    "name": "ipython",
    "version": 3
   },
   "file_extension": ".py",
   "mimetype": "text/x-python",
   "name": "python",
   "nbconvert_exporter": "python",
   "pygments_lexer": "ipython3",
   "version": "3.13.1"
  }
 },
 "nbformat": 4,
 "nbformat_minor": 2
}
